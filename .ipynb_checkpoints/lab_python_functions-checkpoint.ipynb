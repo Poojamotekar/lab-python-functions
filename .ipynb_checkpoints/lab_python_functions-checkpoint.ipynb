{
 "cells": [
  {
   "cell_type": "code",
   "execution_count": 10,
   "metadata": {
    "id": "6yZ6y77lqSLF"
   },
   "outputs": [],
   "source": [
    "def initialize_inventory(Products):\n",
    "    inventory={}\n",
    "    for product in Products:\n",
    "        quantity =int(input(f\"input the quantity of each {product}\"))\n",
    "        inventory[product]=quantity\n",
    "    return inventory\n",
    "#print(f\"Products with the inventory:\",inventory)"
   ]
  },
  {
   "cell_type": "code",
   "execution_count": 35,
   "metadata": {
    "id": "bFo4vTbAtaDC"
   },
   "outputs": [],
   "source": [
    "def get_customer_orders():\n",
    "    customer_orders=set()\n",
    "    while True:\n",
    "        product_order= input(\"Enter a product name (or 'done' to finish): \")\n",
    "        if product_order.lower() == 'done':\n",
    "            break\n",
    "        customer_orders.add(product_order)\n",
    "    return customer_orders\n",
    "\n",
    "#print(\"Customer Orders:\", customer_orders)"
   ]
  },
  {
   "cell_type": "code",
   "execution_count": 36,
   "metadata": {
    "id": "-5QWgeeDuj_x"
   },
   "outputs": [],
   "source": [
    "def update_inventory(customer_orders,inventory):\n",
    "    for order in customer_orders:\n",
    "        if order in inventory:\n",
    "            inventory[order] -= 1\n",
    "        else:\n",
    "            print(f\"Product '{order}' not found in inventory.\")\n",
    "\n"
   ]
  },
  {
   "cell_type": "code",
   "execution_count": 37,
   "metadata": {
    "id": "9oz8ErG6wjf_"
   },
   "outputs": [],
   "source": [
    "def calculate_order_statistics(customer_orders,products):\n",
    "    total_ordered = len(customer_orders)\n",
    "    unique_products = len(set(customer_orders) & set(products))\n",
    "    percentage_unique = (unique_products / len(products)) * 100\n",
    "    return total_ordered, percentage_unique"
   ]
  },
  {
   "cell_type": "code",
   "execution_count": 38,
   "metadata": {
    "id": "nNO1Tz1ZyPFG"
   },
   "outputs": [],
   "source": [
    "def print_order_statistics(order_statistics):\n",
    "    total_ordered, percentage_unique = order_statistics\n",
    "    print(f\"Total products ordered: {total_ordered}\")\n",
    "    print(f\"Percentage of unique products ordered: {percentage_unique:.2f}%\")"
   ]
  },
  {
   "cell_type": "code",
   "execution_count": 39,
   "metadata": {
    "id": "tLV9mFF3ymJ2"
   },
   "outputs": [],
   "source": [
    "def print_updated_inventory(inventory):\n",
    "    print(\"\\nUpdated Inventory:\")\n",
    "    for product, quantity in inventory.items():\n",
    "        print(f\"{product}: {quantity} in stock\")"
   ]
  },
  {
   "cell_type": "code",
   "execution_count": 41,
   "metadata": {
    "colab": {
     "base_uri": "https://localhost:8080/"
    },
    "id": "Hw3nR-E70kEH",
    "outputId": "6fcc0440-e27a-473e-e343-d06d518990b6"
   },
   "outputs": [
    {
     "name": "stdout",
     "output_type": "stream",
     "text": [
      "input the quantity of each apple10\n",
      "input the quantity of each banana20\n",
      "input the quantity of each orange30\n",
      "Enter a product name (or 'done' to finish): apple\n",
      "Enter a product name (or 'done' to finish): done\n",
      "Total products ordered: 1\n",
      "Percentage of unique products ordered: 33.33%\n",
      "\n",
      "Updated Inventory:\n",
      "apple: 9 in stock\n",
      "banana: 20 in stock\n",
      "orange: 30 in stock\n"
     ]
    }
   ],
   "source": [
    "Products_list = [\"apple\", \"banana\", \"orange\"]  # Replace with your actual product list\n",
    "initial_inventory = initialize_inventory(Products_list)\n",
    "customer_orders_set = get_customer_orders()\n",
    "update_inventory(customer_orders_set, initial_inventory)\n",
    "order_stats = calculate_order_statistics(customer_orders_set,Products_list)\n",
    "print_order_statistics(order_stats)\n",
    "print_updated_inventory(initial_inventory)"
   ]
  }
 ],
 "metadata": {
  "colab": {
   "provenance": []
  },
  "kernelspec": {
   "display_name": "Python 3",
   "language": "python",
   "name": "python3"
  },
  "language_info": {
   "codemirror_mode": {
    "name": "ipython",
    "version": 3
   },
   "file_extension": ".py",
   "mimetype": "text/x-python",
   "name": "python",
   "nbconvert_exporter": "python",
   "pygments_lexer": "ipython3",
   "version": "3.8.5"
  }
 },
 "nbformat": 4,
 "nbformat_minor": 1
}
